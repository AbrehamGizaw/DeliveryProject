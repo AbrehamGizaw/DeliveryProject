{
 "cells": [
  {
   "cell_type": "code",
   "execution_count": 8,
   "metadata": {},
   "outputs": [
    {
     "name": "stdout",
     "output_type": "stream",
     "text": [
      "timestamp\n",
      "2024-06-18    1474.571429\n",
      "Name: response_time_ms, dtype: float64\n",
      "this is our data thank you for visiting\n",
      "Original data:\n",
      "            timestamp  response_time_ms  is_outlier\n",
      "0 2024-06-18 10:00:00                50       False\n",
      "1 2024-06-18 11:00:00                42       False\n",
      "2 2024-06-18 12:00:00                61       False\n",
      "3 2024-06-18 13:00:00                38       False\n",
      "4 2024-06-18 14:00:00                75       False\n",
      "5 2024-06-18 15:00:00             10000        True\n",
      "6 2024-06-18 16:00:00                56       False\n",
      "\n",
      "Data with outliers flagged:\n",
      "            timestamp  response_time_ms  is_outlier\n",
      "0 2024-06-18 10:00:00                50       False\n",
      "1 2024-06-18 11:00:00                42       False\n",
      "2 2024-06-18 12:00:00                61       False\n",
      "3 2024-06-18 13:00:00                38       False\n",
      "4 2024-06-18 14:00:00                75       False\n",
      "6 2024-06-18 16:00:00                56       False\n"
     ]
    }
   ],
   "source": [
    "import pandas as pd\n",
    "\n",
    "# Sample data (replace with your actual data)\n",
    "data = {\n",
    "    \"timestamp\": pd.to_datetime([\"2024-06-18 10:00:00\", \"2024-06-18 11:00:00\", \n",
    "                                 \"2024-06-18 12:00:00\", \"2024-06-18 13:00:00\",\n",
    "                                 \"2024-06-18 14:00:00\", \"2024-06-18 15:00:00\",\n",
    "                                 \"2024-06-18 16:00:00\"]),\n",
    "    \"response_time_ms\": [50, 42, 61, 38, 75, 10000, 56]\n",
    "}\n",
    "\n",
    "df = pd.DataFrame(data)\n",
    "\n",
    "# Calculate daily average response time (can be hourly, etc. based on your needs)\n",
    "daily_averages = df.groupby(df['timestamp'].dt.date)['response_time_ms'].mean()\n",
    "print(daily_averages)\n",
    "\n",
    "print(\"this is our data thank you for visiting\")\n",
    "# Function to identify outliers based on a threshold (modify threshold as needed)\n",
    "def is_outlier(row):\n",
    "  response_time = row[\"response_time_ms\"]\n",
    "  daily_average = daily_averages[row[\"timestamp\"].date()]\n",
    "  threshold = 2 * daily_average  # Threshold: 2x daily average\n",
    "  return response_time > threshold\n",
    "\n",
    "# Identify outliers\n",
    "df['is_outlier'] = df.apply(is_outlier, axis=1)\n",
    "\n",
    "# Print results (original data, data with outliers flagged)\n",
    "print(\"Original data:\")\n",
    "print(df)\n",
    "\n",
    "print(\"\\nData with outliers flagged:\")\n",
    "print(df[~df['is_outlier']])  # Filter data excluding outliers\n"
   ]
  },
  {
   "cell_type": "code",
   "execution_count": null,
   "metadata": {},
   "outputs": [],
   "source": []
  }
 ],
 "metadata": {
  "kernelspec": {
   "display_name": "venv",
   "language": "python",
   "name": "python3"
  },
  "language_info": {
   "codemirror_mode": {
    "name": "ipython",
    "version": 3
   },
   "file_extension": ".py",
   "mimetype": "text/x-python",
   "name": "python",
   "nbconvert_exporter": "python",
   "pygments_lexer": "ipython3",
   "version": "3.10.12"
  }
 },
 "nbformat": 4,
 "nbformat_minor": 2
}
